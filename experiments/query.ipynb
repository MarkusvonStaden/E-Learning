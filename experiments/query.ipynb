{
 "cells": [
  {
   "cell_type": "code",
   "execution_count": 14,
   "metadata": {},
   "outputs": [],
   "source": [
    "from langchain.vectorstores.chroma import Chroma\n",
    "from langchain.embeddings import OpenAIEmbeddings\n",
    "from langchain.chat_models import ChatOpenAI\n",
    "from langchain.prompts import ChatPromptTemplate"
   ]
  },
  {
   "cell_type": "code",
   "execution_count": 15,
   "metadata": {},
   "outputs": [],
   "source": [
    "PROMPT_TEMPLATE = \"\"\"\n",
    "Answer the question based only on the following context:\n",
    "\n",
    "{context}\n",
    "\n",
    "---\n",
    "\n",
    "Answer the question based on the above context: {question}\n",
    "\"\"\""
   ]
  },
  {
   "cell_type": "code",
   "execution_count": 16,
   "metadata": {},
   "outputs": [],
   "source": [
    "embedding_function = OpenAIEmbeddings()\n",
    "vector_store = Chroma(embedding_function=embedding_function, persist_directory='chromadb')\n",
    "\n",
    "def ask(query):\n",
    "    results = vector_store.similarity_search_with_relevance_scores(query, 5)\n",
    "    if len(results) == 0 or results[0][1] < 0.7:\n",
    "        print(\"I'm sorry, I don't understand.\")\n",
    "    else:\n",
    "        context_text = \"\\n\\n---\\n\\n\".join([doc.page_content for doc, _score in results])\n",
    "        prompt_template = ChatPromptTemplate.from_template(PROMPT_TEMPLATE)\n",
    "        prompt = prompt_template.format(context=context_text, question=query)\n",
    "\n",
    "        chat_model = ChatOpenAI()\n",
    "        return chat_model.predict(prompt)"
   ]
  },
  {
   "cell_type": "code",
   "execution_count": 17,
   "metadata": {},
   "outputs": [
    {
     "data": {
      "text/plain": [
       "'Am Mittwoch gibt es Kartoffel-Lauch-Gratin, marokkanischen Cous-Cous-Salat mit Hummus und Pitabrot, Pfannengyros mit Zwiebeln, Tomatenreis und hausgemachtem Zaziki, Röstzwiebel-Kartoffelpüree, und Pizza Romana in der Mensa.'"
      ]
     },
     "execution_count": 17,
     "metadata": {},
     "output_type": "execute_result"
    }
   ],
   "source": [
    "ask(\"Was gibt es Mittwoch in der Mensa?\")"
   ]
  },
  {
   "cell_type": "code",
   "execution_count": 18,
   "metadata": {},
   "outputs": [
    {
     "data": {
      "text/plain": [
       "'Das Karlsruher Institut für Technologie (KIT) und die Hochschule Aalen sind im Projekt „bwGPT“ beteiligt.'"
      ]
     },
     "execution_count": 18,
     "metadata": {},
     "output_type": "execute_result"
    }
   ],
   "source": [
    "ask(\"Welche Hochschulen sind am Projekt bwGPT beteiligt?\")"
   ]
  },
  {
   "cell_type": "code",
   "execution_count": 19,
   "metadata": {},
   "outputs": [
    {
     "data": {
      "text/plain": [
       "'KI kann einen Einfluss auf Abschlussarbeiten haben, wenn sie in der Erstellung der Arbeit verwendet wird. Die Selbstständigkeit der Arbeit kann in Frage gestellt werden, insbesondere wenn die generierten KI-Texte einen signifikanten Anteil an der Arbeit ausmachen und deren inhaltliche Qualität prägen. Es muss eine eigenständige Kernleistung des Prüflings vorhanden sein, um die Selbstständigkeit der Arbeit zu gewährleisten. Der Einsatz von KI muss gekennzeichnet und die Regeln des guten wissenschaftlichen Arbeitens eingehalten werden, einschließlich der korrekten Zitation der KI-Quelle. In Prüfungen unter Aufsicht sind generative KI ohne ausdrückliche Genehmigung nicht erlaubt, während in unbeaufsichtigten Leistungsnachweisen wie Abschlussarbeiten Hilfsmittel verwendet werden können, solange die eigene Leistung des Prüflings erkennbar ist.'"
      ]
     },
     "execution_count": 19,
     "metadata": {},
     "output_type": "execute_result"
    }
   ],
   "source": [
    "ask(\"Welchen Einfluss hat KI auf Abschlussarbeiten?\")"
   ]
  },
  {
   "cell_type": "code",
   "execution_count": 20,
   "metadata": {},
   "outputs": [
    {
     "data": {
      "text/plain": [
       "'Matthias Kerat, Markus von Staden, Dr. Martin Franzen und Hannes Rollin haben gemeinsam den KI-Chatbot für die Hochschule Aalen entwickelt.'"
      ]
     },
     "execution_count": 20,
     "metadata": {},
     "output_type": "execute_result"
    }
   ],
   "source": [
    "ask(\"Wer hat den Chatbot der Hochschule Aalen entwickelt?\")"
   ]
  },
  {
   "cell_type": "code",
   "execution_count": 29,
   "metadata": {},
   "outputs": [
    {
     "data": {
      "text/plain": [
       "'Ja, generative KI als Hilfsmittel muss gekennzeichnet werden, insbesondere in schriftlichen Arbeiten, um den Regeln des guten wissenschaftlichen Arbeitens zu entsprechen. Fehlende oder falsche Zitierung der KI-Quelle kann zu einem Verstoß gegen diese Regeln führen und sogar zur Exmatrikulation führen.'"
      ]
     },
     "execution_count": 29,
     "metadata": {},
     "output_type": "execute_result"
    }
   ],
   "source": [
    "ask(input())"
   ]
  }
 ],
 "metadata": {
  "kernelspec": {
   "display_name": "Python 3",
   "language": "python",
   "name": "python3"
  },
  "language_info": {
   "codemirror_mode": {
    "name": "ipython",
    "version": 3
   },
   "file_extension": ".py",
   "mimetype": "text/x-python",
   "name": "python",
   "nbconvert_exporter": "python",
   "pygments_lexer": "ipython3",
   "version": "3.11.8"
  }
 },
 "nbformat": 4,
 "nbformat_minor": 2
}
